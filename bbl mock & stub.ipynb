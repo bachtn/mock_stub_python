{
 "cells": [
  {
   "cell_type": "code",
   "execution_count": null,
   "metadata": {},
   "outputs": [],
   "source": []
  },
  {
   "cell_type": "code",
   "execution_count": 52,
   "metadata": {},
   "outputs": [],
   "source": [
    "import os\n",
    "import face_recognition\n",
    "import numpy\n",
    "import cv2\n",
    "from typing import List"
   ]
  },
  {
   "cell_type": "code",
   "execution_count": 74,
   "metadata": {},
   "outputs": [],
   "source": [
    "IMAGE_FOLDER = 'images'\n",
    "WIDTH, HEIGHT = 1200, 800\n",
    "GAUSSIAN_KERNEL_SIZE = (345, 345)\n",
    "X_STANDARD_DEVIATION = 0"
   ]
  },
  {
   "cell_type": "code",
   "execution_count": 98,
   "metadata": {},
   "outputs": [],
   "source": [
    "def get_image_paths_and_names(folder_path: str) -> List[str]:\n",
    "    image_path_list, image_name_list = [], []\n",
    "    with os.scandir(folder_path) as entries:\n",
    "        for entry in entries:\n",
    "            if entry.is_file() and entry.name.endswith('jpg'):\n",
    "                image_path = os.path.join(folder_path, entry.name)\n",
    "                image_path_list.append(image_path)\n",
    "                image_name_list.append(entry.name)\n",
    "    return image_path_list, image_name_list\n",
    "\n",
    "def load_images(image_path_list: List[str]) -> numpy.ndarray:\n",
    "    return [cv2.imread(image_path) for image_path in image_path_list]\n",
    "\n",
    "# Detect faces\n",
    "def resize_images(image_list: List[numpy.ndarray]) -> List[numpy.ndarray]:\n",
    "    return [cv2.resize(image, (WIDTH, HEIGHT)) for image in image_list]\n",
    "\n",
    "def rescale_face_boxes(face_boxes, shape):\n",
    "    rescaled_faces = [\n",
    "        [int(top * shape[0] / HEIGHT), int(right * shape[1] / WIDTH),\n",
    "        int(bottom * shape[0] / HEIGHT), int(left * shape[1] / WIDTH)] \\\n",
    "        for top, right, bottom, left in face_boxes]\n",
    "    return rescaled_faces\n",
    "\n",
    "def detect_faces_in_images(image_list):\n",
    "    resized_image_list = resize_images(image_list)\n",
    "    rescaled_face_boxes_batch = face_recognition.batch_face_locations(\n",
    "        resized_image_list, number_of_times_to_upsample=1)\n",
    "    #face_boxes_batch = [face_recognition.face_locations(resized_image) for resized_image in resized_image_list]\n",
    "    image_shape_list = [image.shape for image in image_list]\n",
    "    face_boxes_batch = [rescale_face_boxes(face_boxes, image_shape) for face_boxes, image_shape in\n",
    "                            zip(rescaled_face_boxes_batch, image_shape_list)]\n",
    "    return face_boxes_batch\n",
    "\n",
    "\n",
    "# Blur faces\n",
    "def crop_faces(image: numpy.ndarray, face_boxes) -> List[numpy.ndarray]:\n",
    "    return [image[top:bottom, left:right] for top, right, bottom, left in face_boxes]\n",
    "\n",
    "def blur_faces_in_image(raw_image: numpy.ndarray, face_crops: List[numpy.ndarray], face_boxes) -> numpy.ndarray:\n",
    "    blurred_image = raw_image.copy()\n",
    "    blurred_faces = [cv2.GaussianBlur(face_crop, GAUSSIAN_KERNEL_SIZE, X_STANDARD_DEVIATION) \\\n",
    "        for face_crop in face_crops]\n",
    "    for blurred_face, (top, right, bottom, left) in zip(blurred_faces, face_boxes):\n",
    "        blurred_image[top:bottom, left:right] = blurred_face\n",
    "    return blurred_image\n",
    "\n",
    "def blur_faces_in_images(raw_image_batch: List[numpy.ndarray], face_boxes_batch) -> List[numpy.ndarray]:\n",
    "    blurred_raw_image_batch = []\n",
    "    for raw_image, face_boxes in zip(raw_image_batch, face_boxes_batch):\n",
    "        if len(face_boxes) > 0:\n",
    "            face_crops = crop_faces(raw_image, face_boxes)\n",
    "            blurred_image = blur_faces_in_image(raw_image, face_crops, face_boxes)\n",
    "        else:\n",
    "            blurred_image = raw_image\n",
    "        blurred_raw_image_batch.append(blurred_image)\n",
    "    return blurred_raw_image_batch\n",
    "\n",
    "# Save images\n",
    "def save_images(image_list, image_name_list, folder):\n",
    "    for image, image_name in zip(image_list, image_name_list):\n",
    "        new_path = os.path.join(folder, f'blurred_{image_name}')\n",
    "        print(new_path)\n",
    "        is_saved = cv2.imwrite(new_path, image)"
   ]
  },
  {
   "cell_type": "code",
   "execution_count": 99,
   "metadata": {},
   "outputs": [
    {
     "name": "stdout",
     "output_type": "stream",
     "text": [
      "images/blurred_2.jpg\n",
      "images/blurred_3.jpg\n",
      "images/blurred_1.jpg\n"
     ]
    }
   ],
   "source": [
    "image_path_list, image_name_list = get_image_paths_and_names(IMAGE_FOLDER)\n",
    "image_list = load_images(image_path_list)\n",
    "face_boxes_batch = detect_faces_in_images(image_list)\n",
    "blurred_images = blur_faces_in_images(image_list, face_boxes_batch)\n",
    "save_images(blurred_images, image_name_list, IMAGE_FOLDER)"
   ]
  },
  {
   "cell_type": "code",
   "execution_count": null,
   "metadata": {},
   "outputs": [],
   "source": []
  }
 ],
 "metadata": {
  "kernelspec": {
   "display_name": "Python 3",
   "language": "python",
   "name": "python3"
  },
  "language_info": {
   "codemirror_mode": {
    "name": "ipython",
    "version": 3
   },
   "file_extension": ".py",
   "mimetype": "text/x-python",
   "name": "python",
   "nbconvert_exporter": "python",
   "pygments_lexer": "ipython3",
   "version": "3.6.6"
  }
 },
 "nbformat": 4,
 "nbformat_minor": 2
}
